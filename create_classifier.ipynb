{
 "cells": [
  {
   "cell_type": "code",
   "execution_count": 195,
   "metadata": {},
   "outputs": [],
   "source": [
    "import numpy as np\n",
    "import pandas as pd\n",
    "from sklearn.neural_network import MLPClassifier\n",
    "from sklearn.decomposition import TruncatedSVD\n",
    "from sklearn.metrics import accuracy_score"
   ]
  },
  {
   "cell_type": "code",
   "execution_count": 2,
   "metadata": {},
   "outputs": [],
   "source": [
    "ATAC_seq = pd.read_csv('data/Hackathon2024.ATAC.txt.gz', sep='\\t', index_col=0, compression='gzip')\n",
    "RNA_seq = pd.read_csv('data/Hackathon2024.RNA.txt.gz', sep='\\t', index_col=0, compression='gzip')\n",
    "meta = pd.read_csv('data/Hackathon2024.Meta.txt.gz', sep='\\t', compression='gzip')\n",
    "testing_set = pd.read_csv('data/Hackathon2024.Testing.Set.Peak2Gene.Pairs.txt.gz', sep='\\t', compression='gzip')\n",
    "training_set = pd.read_csv('data/Hackathon2024.Training.Set.Peak2Gene.Pairs.txt.gz', sep='\\t', compression='gzip')"
   ]
  },
  {
   "cell_type": "code",
   "execution_count": 248,
   "metadata": {},
   "outputs": [],
   "source": [
    "## This corrected version fits the TruncatedSVD model to the ATAC-seq and RNA-seq data separately, vectors\n",
    "## of length 1000 that represent each gene and peak\n",
    "\n",
    "svd_rna = TruncatedSVD(n_components=1000, random_state=42)\n",
    "rna_transformed = svd_rna.fit_transform(RNA_seq)"
   ]
  },
  {
   "cell_type": "code",
   "execution_count": 249,
   "metadata": {},
   "outputs": [],
   "source": [
    "svd_atac = TruncatedSVD(n_components=1000, random_state=42)\n",
    "atac_transformed = svd_atac.fit_transform(ATAC_seq)"
   ]
  },
  {
   "cell_type": "code",
   "execution_count": 250,
   "metadata": {},
   "outputs": [],
   "source": [
    "## put the transformed vectors into dataframes so genes and peaks can be easily indexed\n",
    "RNA_seq_transformed = pd.DataFrame(data=rna_transformed, index=RNA_seq.index)\n",
    "ATAC_seq_transformed = pd.DataFrame(data=atac_transformed, index=ATAC_seq.index)"
   ]
  },
  {
   "cell_type": "code",
   "execution_count": 270,
   "metadata": {},
   "outputs": [],
   "source": [
    "## get the vectors for a list of pairs like chr1-4i9u902u_AKT1\n",
    "## the vectors are now combined through subtraction, but we can proabably find a more effective way to combine them\n",
    "def get_vecs(pairs: list[str]):\n",
    "    genes = [pair.split('_')[1] for pair in pairs]\n",
    "    chrs = [pair.split('_')[0] for pair in pairs]\n",
    "    return RNA_seq_transformed.loc[genes].values - ATAC_seq_transformed.loc[chrs].values "
   ]
  },
  {
   "cell_type": "code",
   "execution_count": 271,
   "metadata": {},
   "outputs": [],
   "source": [
    "training_sample = training_set.sample(150)\n",
    "training_sample_test = training_set.iloc[list(set(range(300)).difference(training_sample.index.values))]\n",
    "\n",
    "y_train = list(training_sample['Peak2Gene'].astype(int))\n",
    "x_train = get_vecs(list(training_sample['Pair']))\n",
    "\n",
    "x_train_test = get_vecs(list(training_sample_test['Pair']))\n",
    "y_train_test = list(training_sample_test['Peak2Gene'].astype(int))"
   ]
  },
  {
   "cell_type": "code",
   "execution_count": 276,
   "metadata": {},
   "outputs": [
    {
     "data": {
      "text/plain": [
       "0.9933333333333333"
      ]
     },
     "execution_count": 276,
     "metadata": {},
     "output_type": "execute_result"
    }
   ],
   "source": [
    "clf = MLPClassifier(solver='sgd', alpha=1e-5, hidden_layer_sizes=[500, 100, 2], random_state=1, max_iter=1000)\n",
    "clf.fit(x_train, y_train)\n",
    "clf.score(x_train_test, y_train_test)"
   ]
  },
  {
   "cell_type": "markdown",
   "metadata": {},
   "source": [
    "## Retrain model on all training data and create predictions.csv"
   ]
  },
  {
   "cell_type": "code",
   "execution_count": 277,
   "metadata": {},
   "outputs": [],
   "source": [
    "y_train = list(training_set['Peak2Gene'].astype(int))\n",
    "x_train = get_vecs(list(training_set['Pair']))\n",
    "\n",
    "x_test = get_vecs(list(testing_set['Pair']))"
   ]
  },
  {
   "cell_type": "code",
   "execution_count": 279,
   "metadata": {},
   "outputs": [],
   "source": [
    "clf = MLPClassifier(solver='sgd', alpha=1e-5, hidden_layer_sizes=[500, 100, 2], random_state=1, max_iter=1000)\n",
    "clf.fit(x_train, y_train)\n",
    "\n",
    "testing_set['Peak2Gene'] = clf.predict(x_test).astype(bool)"
   ]
  },
  {
   "cell_type": "code",
   "execution_count": 280,
   "metadata": {},
   "outputs": [],
   "source": [
    "# format for R\n",
    "testing_set['Peak2Gene'] = testing_set['Peak2Gene'].map(lambda x: 'TRUE' if x  else 'FALSE')\n",
    "testing_set.set_index('peak', drop=True).to_csv('predictions.csv')"
   ]
  }
 ],
 "metadata": {
  "kernelspec": {
   "display_name": "venv",
   "language": "python",
   "name": "python3"
  },
  "language_info": {
   "codemirror_mode": {
    "name": "ipython",
    "version": 3
   },
   "file_extension": ".py",
   "mimetype": "text/x-python",
   "name": "python",
   "nbconvert_exporter": "python",
   "pygments_lexer": "ipython3",
   "version": "3.10.13"
  }
 },
 "nbformat": 4,
 "nbformat_minor": 2
}
